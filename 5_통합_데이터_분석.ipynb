{
  "cells": [
    {
      "cell_type": "markdown",
      "metadata": {
        "id": "view-in-github",
        "colab_type": "text"
      },
      "source": [
        "<a href=\"https://colab.research.google.com/github/HaHyunkyung/Seoul_bus_station/blob/main/5_%ED%86%B5%ED%95%A9_%EB%8D%B0%EC%9D%B4%ED%84%B0_%EB%B6%84%EC%84%9D.ipynb\" target=\"_parent\"><img src=\"https://colab.research.google.com/assets/colab-badge.svg\" alt=\"Open In Colab\"/></a>"
      ]
    },
    {
      "cell_type": "markdown",
      "id": "46fa690c",
      "metadata": {
        "id": "46fa690c"
      },
      "source": [
        "# 서울시 생활정보 기반 대중교통 수요 분석"
      ]
    },
    {
      "cell_type": "markdown",
      "source": [
        "<center>\n",
        "<img src='https://drive.google.com/uc?id=1Nf_jhqGMXA8eRFVe0PbJXzkk1d6SbZK8' /></br>\n",
        "</center>"
      ],
      "metadata": {
        "id": "rvvS3i-0-_Ex"
      },
      "id": "rvvS3i-0-_Ex"
    },
    {
      "cell_type": "markdown",
      "source": [
        "----"
      ],
      "metadata": {
        "id": "boD-DFU__BG2"
      },
      "id": "boD-DFU__BG2"
    },
    {
      "cell_type": "markdown",
      "id": "22a4bba9",
      "metadata": {
        "id": "22a4bba9"
      },
      "source": [
        "# 데이터 합치기"
      ]
    },
    {
      "cell_type": "code",
      "execution_count": null,
      "id": "ce78669f",
      "metadata": {
        "id": "ce78669f"
      },
      "outputs": [],
      "source": [
        "import pandas as pd"
      ]
    },
    {
      "cell_type": "code",
      "source": [
        "from google.colab import drive\n",
        "drive.mount('/content/drive')"
      ],
      "metadata": {
        "colab": {
          "base_uri": "https://localhost:8080/"
        },
        "id": "3IL053pR_U2I",
        "outputId": "ac01bcbb-da32-49d7-a826-ff436f5b20c1"
      },
      "id": "3IL053pR_U2I",
      "execution_count": null,
      "outputs": [
        {
          "output_type": "stream",
          "name": "stdout",
          "text": [
            "Mounted at /content/drive\n"
          ]
        }
      ]
    },
    {
      "cell_type": "code",
      "execution_count": null,
      "id": "d91f797e",
      "metadata": {
        "id": "d91f797e"
      },
      "outputs": [],
      "source": [
        "standard = pd.DataFrame({'도착 시군구 코드': [11010, 11020, 11030, 11040, 11050, 11060, 11070, 11080, 11090, 11100, 11110, 11120, 11130, 11140, 11150, 11160, 11170, 11180, 11190, 11200, 11210, 11220, 11230, 11240, 11250],\n",
        "                         '자치구' :['종로구','중구','용산구','성동구','광진구','동대문구','중랑구','성북구','강북구','도봉구','노원구','은평구','서대문구','마포구','양천구','강서구','구로구','금천구','영등포구','동작구','관악구','서초구','강남구','송파구','강동구']})"
      ]
    },
    {
      "cell_type": "code",
      "execution_count": null,
      "id": "823d3b41",
      "metadata": {
        "id": "823d3b41"
      },
      "outputs": [],
      "source": [
        "standard"
      ]
    },
    {
      "cell_type": "code",
      "execution_count": null,
      "id": "5ee007e0",
      "metadata": {
        "id": "5ee007e0"
      },
      "outputs": [],
      "source": [
        "# 버스 정류장 데이터 - df_seoul_bus_station\n",
        "# 유동인구 데이터 - df_seoul_moving\n",
        "# 구별 상권 데이터 - df_seoul_business\n",
        "# 구별 등록 인구 데이터 - df_seoul_people"
      ]
    },
    {
      "cell_type": "code",
      "execution_count": null,
      "id": "d8f6cfe8",
      "metadata": {
        "id": "d8f6cfe8"
      },
      "outputs": [],
      "source": [
        "df_seoul_bus_station = pd.read_csv('df_seoul_bus_station.csv', sep=\",\", encoding = 'UTF-8')\n",
        "df_seoul_moving = pd.read_csv('df_seoul_moving.csv', sep=\",\", encoding = 'UTF-8')\n",
        "df_seoul_business = pd.read_csv('df_seoul_business.csv', sep=\",\", encoding = 'UTF-8')\n",
        "df_seoul_people = pd.read_csv('df_seoul_people.csv', sep=\",\", encoding = 'UTF-8')"
      ]
    },
    {
      "cell_type": "code",
      "execution_count": null,
      "id": "aa6489c6",
      "metadata": {
        "id": "aa6489c6"
      },
      "outputs": [],
      "source": [
        "# 아래에 실습코드를 작성하고 결과를 확인합니다."
      ]
    },
    {
      "cell_type": "code",
      "execution_count": null,
      "id": "01b9e8ba",
      "metadata": {
        "id": "01b9e8ba"
      },
      "outputs": [],
      "source": [
        "# 아래에 실습코드를 작성하고 결과를 확인합니다."
      ]
    },
    {
      "cell_type": "code",
      "execution_count": null,
      "id": "9cc8bb00",
      "metadata": {
        "id": "9cc8bb00"
      },
      "outputs": [],
      "source": [
        "df = pd.merge(standard,df_seoul_people,how='inner', on='자치구')\n",
        "df = pd.merge(df,df_seoul_business,how='inner', on='자치구')\n",
        "df = pd.merge(df,df_seoul_bus_station,how='inner', on='자치구')\n",
        "df = pd.merge(df,df_seoul_moving,how='inner', on='도착 시군구 코드')"
      ]
    },
    {
      "cell_type": "markdown",
      "id": "ca567b34",
      "metadata": {
        "id": "ca567b34"
      },
      "source": [
        "---"
      ]
    },
    {
      "cell_type": "markdown",
      "id": "b2edf769",
      "metadata": {
        "id": "b2edf769"
      },
      "source": [
        "## 1.가설 수립\n",
        "+ 어떤 데이터를 label 데이터로 하실 건가요?\n",
        "\n",
        "*정해진게 없나요? - 라벨을 조별로 고민하셔서 라벨데이터를 설정하시면 되겠습니다\n",
        "*가설마다 라벨데이터가 달라도 상관없나요? 네 상관없습니다.\n",
        "*가설은 3개만 해야하나요? 그 이상 하셔도 무방합니다\n",
        "\n",
        "## 가설을 설정해 봅시다(최소 1개) - 미니프로젝트 진행의 편의상 가설은 이변량 분석을 염두에 두고 설정해 주세요"
      ]
    },
    {
      "cell_type": "markdown",
      "id": "b3d42e07",
      "metadata": {
        "id": "b3d42e07"
      },
      "source": [
        "* 가설 1"
      ]
    },
    {
      "cell_type": "markdown",
      "id": "4fd1db81",
      "metadata": {
        "id": "4fd1db81"
      },
      "source": [
        "* 가설 2"
      ]
    },
    {
      "cell_type": "markdown",
      "id": "e527bc75",
      "metadata": {
        "id": "e527bc75"
      },
      "source": [
        "* 가설 3"
      ]
    },
    {
      "cell_type": "markdown",
      "id": "6aa7b930",
      "metadata": {
        "id": "6aa7b930"
      },
      "source": [
        "## 2.단변량 분석\n",
        "\n",
        "+ 변수의 비즈니스 의미  \n",
        "\n",
        "+ 숫자? 범주?  \n",
        "\n",
        "+ 전처리 사항\n",
        "   - NaN 존재 여부 및 조치 방안  \n",
        "   - 가변수화 대상여부  \n",
        "   \n",
        "+ 기초통계량\n",
        "\n",
        "+ 분포  \n",
        "\n",
        "+ 위 정보로부터 파악한 내용(비즈니스!) 정리  \n",
        "\n",
        "+ 추가 분석해볼 사항 도출"
      ]
    },
    {
      "cell_type": "code",
      "execution_count": null,
      "id": "b62009a9",
      "metadata": {
        "id": "b62009a9"
      },
      "outputs": [],
      "source": [
        "# 시각화 한글폰트 설정\n",
        "import seaborn as sns\n",
        "import matplotlib.pyplot as plt\n",
        "\n",
        "plt.rc('font', family='nanum')\n",
        "sns.set(font=\"NanumGothicCoding\",#\"NanumGothicCoding\",\n",
        "        rc={\"axes.unicode_minus\":False}, # 마이너스 부호 깨짐 현상 해결\n",
        "        style='darkgrid')"
      ]
    },
    {
      "cell_type": "markdown",
      "id": "39ef5d0f",
      "metadata": {
        "id": "39ef5d0f"
      },
      "source": [
        "### 1)\n"
      ]
    },
    {
      "cell_type": "markdown",
      "id": "a4e3ec6e",
      "metadata": {
        "id": "a4e3ec6e"
      },
      "source": [
        "### 2)"
      ]
    },
    {
      "cell_type": "markdown",
      "id": "a7193abc",
      "metadata": {
        "id": "a7193abc"
      },
      "source": [
        "### 3)"
      ]
    },
    {
      "cell_type": "markdown",
      "id": "ac81d719",
      "metadata": {
        "id": "ac81d719"
      },
      "source": [
        "## 3.이변량 분석\n",
        "\n",
        "* 자료의 종류에 맞게 X --> Y 에 대해서 그래프(시각화)와 가설검정(수치화)를 수행하고 결과를 평가합니다.\n",
        "\n",
        "* 가설검정시 다음의 항목을 참조하여 수행합니다.\n",
        "    * 유의수준 : 5%\n",
        "    * 숫자 --> 숫자 : 상관분석\n",
        "    * 범주 --> 범주 : 카이제곱검정\n",
        "    * 범주 --> 숫자 : t검정, 분산분석\n",
        "    * 숫자 --> 범주 : 로지스틱 회귀모형을 통해, 회귀계수의 P.value로 검정을 수행합니다.\n",
        "    \n",
        "상관계수 (우리가 배운 기준)\n",
        "- 0.5 ~ 1 : 강한\n",
        "- 0.2 ~ 0.5 : 중간\n",
        "- 0.1 ~ 0.2 : 약간\n",
        "- 0 ~ 0.1 : 없음\n",
        "- 음수 똑같음\n",
        "\n",
        "p-value 기준을 0.05로 가져죠? 5%\n",
        "p-value가 0.05보다 크다 == 귀무가설을 기각 하지 못한다 == 대립가설이 틀렸다(우리가 원하는 바는 대립가설)\n",
        "\n",
        "- 귀무가설을 기각하려면 우리가 싫어하는 귀무가설을 입증할 증거가 나올 확률이 5% 이하여야 함\n",
        "- p-value가 그 귀무가설을 입증할 증거가 나올 확률을 의미함\n"
      ]
    },
    {
      "cell_type": "code",
      "execution_count": null,
      "id": "d4c9ece2",
      "metadata": {
        "tags": [],
        "id": "d4c9ece2"
      },
      "outputs": [],
      "source": [
        "target ="
      ]
    },
    {
      "cell_type": "markdown",
      "id": "a1ef2391",
      "metadata": {
        "id": "a1ef2391"
      },
      "source": [
        "### 1)"
      ]
    },
    {
      "cell_type": "markdown",
      "id": "9a7f6c08",
      "metadata": {
        "id": "9a7f6c08"
      },
      "source": [
        "### 2)"
      ]
    },
    {
      "cell_type": "markdown",
      "id": "3e09f869",
      "metadata": {
        "id": "3e09f869"
      },
      "source": [
        "### 3)"
      ]
    },
    {
      "cell_type": "markdown",
      "id": "1d3f065b",
      "metadata": {
        "id": "1d3f065b"
      },
      "source": [
        "### 상관계수를 구하고 HeatMap으로 시각화 후 나름의 분석을 해보세요.\n",
        "\n"
      ]
    },
    {
      "cell_type": "code",
      "execution_count": null,
      "id": "4e41b8d9",
      "metadata": {
        "id": "4e41b8d9"
      },
      "outputs": [],
      "source": [
        "# 아래에 실습코드를 작성하고 상관계수를 확인 및 시각화 합니다.\n",
        "import scipy.stats as spst\n",
        "\n",
        "spst.pearsonr(X,Y)"
      ]
    },
    {
      "cell_type": "code",
      "execution_count": null,
      "id": "269c049e",
      "metadata": {
        "id": "269c049e"
      },
      "outputs": [],
      "source": [
        "# 아래에 실습코드를 작성하고 상관계수를 확인 및 시각화 합니다.\n",
        "\n",
        "sns.heatmap(seoul_bus_station.corr(), annot = True)\n",
        "plt.show()"
      ]
    },
    {
      "cell_type": "code",
      "execution_count": null,
      "id": "100b24d7",
      "metadata": {
        "id": "100b24d7"
      },
      "outputs": [],
      "source": [
        "# 위 차트를 통해 알게된 사실을 정리해봅시다.\n",
        "# 1.\n",
        "# 2.\n",
        "# 3."
      ]
    },
    {
      "cell_type": "markdown",
      "id": "20e08293",
      "metadata": {
        "id": "20e08293"
      },
      "source": [
        "## 4.관계 정리"
      ]
    },
    {
      "cell_type": "markdown",
      "id": "b11433ac",
      "metadata": {
        "id": "b11433ac"
      },
      "source": [
        "### 1) 강한 관계의 변수"
      ]
    },
    {
      "cell_type": "markdown",
      "id": "ae622498",
      "metadata": {
        "id": "ae622498"
      },
      "source": []
    },
    {
      "cell_type": "markdown",
      "id": "3101b64b",
      "metadata": {
        "id": "3101b64b"
      },
      "source": [
        "### 2) 약한 관계의 변수"
      ]
    },
    {
      "cell_type": "markdown",
      "id": "7a7f579d",
      "metadata": {
        "id": "7a7f579d"
      },
      "source": []
    },
    {
      "cell_type": "markdown",
      "id": "644198b7",
      "metadata": {
        "id": "644198b7"
      },
      "source": [
        "## 5.솔루션 도출\n",
        "\n",
        "### 어느 구에 버스 노선 또는 정류장이 제일 필요한가요? 그 이유는 무엇일까요?\n",
        "### 조원들과 상의해서 각자의 인사이트를 도출하고 발표자료를 만들어보세요."
      ]
    },
    {
      "cell_type": "markdown",
      "id": "783e8346",
      "metadata": {
        "id": "783e8346"
      },
      "source": []
    }
  ],
  "metadata": {
    "colab": {
      "provenance": [],
      "include_colab_link": true
    },
    "kernelspec": {
      "display_name": "Python 3 (ipykernel)",
      "language": "python",
      "name": "python3"
    },
    "language_info": {
      "codemirror_mode": {
        "name": "ipython",
        "version": 3
      },
      "file_extension": ".py",
      "mimetype": "text/x-python",
      "name": "python",
      "nbconvert_exporter": "python",
      "pygments_lexer": "ipython3",
      "version": "3.11.5"
    },
    "vscode": {
      "interpreter": {
        "hash": "f08154012ddadd8e950e6e9e035c7a7b32c136e7647e9b7c77e02eb723a8bedb"
      }
    }
  },
  "nbformat": 4,
  "nbformat_minor": 5
}